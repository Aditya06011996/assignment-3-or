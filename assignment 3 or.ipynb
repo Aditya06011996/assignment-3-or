{
 "cells": [
  {
   "cell_type": "code",
   "execution_count": null,
   "id": "98d9cba2-e947-478d-9ee6-06c8a9b89e0c",
   "metadata": {},
   "outputs": [],
   "source": [
    " Q 1 Which keyword is used to create a function? Create a function to return a list of odd numbers in the range of 1 to 25.\n"
   ]
  },
  {
   "cell_type": "code",
   "execution_count": 2,
   "id": "6cfd4826-d69d-4b5d-b69f-04ee1f076bf7",
   "metadata": {},
   "outputs": [],
   "source": [
    "l = [1,2,3,4,5,6,7,8,9,10,11,12,13,14,15,16,17,18,19,20,21,22,23,24,25]"
   ]
  },
  {
   "cell_type": "code",
   "execution_count": 3,
   "id": "199cf738-b5f8-40ba-8f52-f6976185c620",
   "metadata": {},
   "outputs": [
    {
     "data": {
      "text/plain": [
       "[1, 3, 5, 7, 9, 11, 13, 15, 17, 19, 21, 23, 25]"
      ]
     },
     "execution_count": 3,
     "metadata": {},
     "output_type": "execute_result"
    }
   ],
   "source": [
    "list(filter(lambda x : x % 2 != 0 , l))"
   ]
  },
  {
   "cell_type": "markdown",
   "id": "a628ca4e-edcf-46f6-bab4-c5bf53c49835",
   "metadata": {},
   "source": [
    "def keyword is used to create a function."
   ]
  },
  {
   "cell_type": "markdown",
   "id": "b55d8973-16be-4b5e-8c76-2adec0841f94",
   "metadata": {},
   "source": [
    "Q 2 Why *args and ** kwargs is used in some function? Create a function each for *args and **kwargs to demonstrate thier use."
   ]
  },
  {
   "cell_type": "markdown",
   "id": "c4499e78-0b84-4815-b217-d66d3bebda42",
   "metadata": {},
   "source": [
    "Ans 2 We can use *args and **kwargs as arguments of a function when you are unsure about the number of arguments to pass in the functions."
   ]
  },
  {
   "cell_type": "markdown",
   "id": "0ac79281-427a-466a-9341-d6302f288f6e",
   "metadata": {},
   "source": [
    "1.*args allows us to pass a varaible number of non keyword arguments to a python function."
   ]
  },
  {
   "cell_type": "markdown",
   "id": "cdce147d-6b50-4663-a5f7-2856649b1a1e",
   "metadata": {},
   "source": [
    "2.**kwargs allows us to pass a variable number of keyword arguments to a python function.\n"
   ]
  },
  {
   "cell_type": "markdown",
   "id": "75eeb63d-50e1-40ac-8d99-359ce41cfdce",
   "metadata": {},
   "source": [
    "Q 3 What is an iterator in python ? Name the method used to initialise the iterator object and the method used for iteration. Use these methods to print the first five elements of the given list [2,4,6,8,10,12,14,16,18,20]"
   ]
  },
  {
   "cell_type": "code",
   "execution_count": 11,
   "id": "a34dddcf-237f-419f-89f2-ebf6f758791f",
   "metadata": {},
   "outputs": [],
   "source": [
    "#An object that allows you to iterate over collection of data , such as lists , tuples ,dictionaries and set.\n",
    "#iter() method is used to initialise the iterator object.\n"
   ]
  },
  {
   "cell_type": "code",
   "execution_count": 2,
   "id": "b635d8cf-4e74-4c5c-876d-dcd4bf4e183f",
   "metadata": {},
   "outputs": [],
   "source": [
    "l = [2,4,6,8,10,12,14,16,18,20]"
   ]
  },
  {
   "cell_type": "code",
   "execution_count": 3,
   "id": "a17ea6c8-3829-45a3-a4c0-134f48b8098a",
   "metadata": {},
   "outputs": [
    {
     "data": {
      "text/plain": [
       "[2, 4, 6, 8, 10, 12, 14, 16, 18, 20]"
      ]
     },
     "execution_count": 3,
     "metadata": {},
     "output_type": "execute_result"
    }
   ],
   "source": [
    "l"
   ]
  },
  {
   "cell_type": "code",
   "execution_count": 9,
   "id": "2f76684b-86af-4c73-b684-557f7410d22d",
   "metadata": {},
   "outputs": [
    {
     "name": "stdout",
     "output_type": "stream",
     "text": [
      "2\n",
      "4\n",
      "6\n",
      "8\n",
      "10\n"
     ]
    }
   ],
   "source": [
    "for i in l:\n",
    "    if i < 12 :\n",
    "        print (i)"
   ]
  },
  {
   "cell_type": "code",
   "execution_count": 12,
   "id": "79d1b5db-ee0e-4c7a-899e-9a8e99f99956",
   "metadata": {},
   "outputs": [],
   "source": [
    "#Q 4 What is a generator function in python ? Why yield keyword is used? Give an example of generator function."
   ]
  },
  {
   "cell_type": "code",
   "execution_count": 14,
   "id": "5616f091-942e-4071-b3b5-42cc1257188e",
   "metadata": {},
   "outputs": [],
   "source": [
    "#Ans A generator is a function that return an iterator that produces a sequences of values when iterated over.\n",
    "#We use yield keyword when we want to iterate over a sequence , but don't want to store the entire sequence in memory.\n"
   ]
  },
  {
   "cell_type": "code",
   "execution_count": 15,
   "id": "05fcee1d-f14d-42e4-a3a4-d04949559bcf",
   "metadata": {},
   "outputs": [],
   "source": [
    "def generator_name(arg):\n",
    "    #statements\n",
    "    yield something\n",
    "    "
   ]
  },
  {
   "cell_type": "markdown",
   "id": "2adb7fcb-e59b-4fcd-ae6a-8a2deb9a3b8a",
   "metadata": {},
   "source": [
    "Q 5 Create a generator function for prime numbers less than 1000. Use the next() method to print the first 20 prime numbers."
   ]
  },
  {
   "cell_type": "code",
   "execution_count": 20,
   "id": "b7d6951e-d146-48c7-a991-752e3c5ae8c5",
   "metadata": {},
   "outputs": [],
   "source": [
    "#Ans - sorry i dont know."
   ]
  },
  {
   "cell_type": "markdown",
   "id": "fe74dfe9-f1d2-4dad-ae86-cbc943cd207c",
   "metadata": {},
   "source": [
    "Q 6 Write a python program to print the first 10 Fibonacci numbers using a while loop."
   ]
  },
  {
   "cell_type": "code",
   "execution_count": 23,
   "id": "f35aa8a6-b10f-4129-86c0-fc9eda57c5e4",
   "metadata": {},
   "outputs": [],
   "source": [
    "def test_fb():\n",
    "    a,b =0,1\n",
    "    while True:\n",
    "        yield a\n",
    "        a,b = b,a+b\n",
    "        \n",
    "        "
   ]
  },
  {
   "cell_type": "code",
   "execution_count": 25,
   "id": "7d397898-854b-4cdf-a44a-1477312ff42a",
   "metadata": {},
   "outputs": [],
   "source": [
    "fb1 = test_fb()"
   ]
  },
  {
   "cell_type": "code",
   "execution_count": 26,
   "id": "0f375480-bb45-492a-afbe-7438eb73668e",
   "metadata": {},
   "outputs": [
    {
     "name": "stdout",
     "output_type": "stream",
     "text": [
      "0\n",
      "1\n",
      "1\n",
      "2\n",
      "3\n",
      "5\n",
      "8\n",
      "13\n",
      "21\n",
      "34\n"
     ]
    }
   ],
   "source": [
    "for i in range (10):\n",
    "    print(next(fb1))"
   ]
  },
  {
   "cell_type": "markdown",
   "id": "6e8e5e3f-3174-40bc-944d-bda794b14628",
   "metadata": {},
   "source": [
    "Q 7 Write a list comprehension to iterate through the given string: 'pwskills'"
   ]
  },
  {
   "cell_type": "code",
   "execution_count": 3,
   "id": "ccfae286-9f73-4158-a4a6-ea03046117ff",
   "metadata": {},
   "outputs": [
    {
     "name": "stdout",
     "output_type": "stream",
     "text": [
      "['p', 'w', 's', 'k', 'i', 'l', 'l', 's']\n"
     ]
    }
   ],
   "source": [
    "h_letters =[letter for letter in 'pwskills']\n",
    "print(h_letters)\n"
   ]
  },
  {
   "cell_type": "markdown",
   "id": "5e089434-ffa7-44ab-b0cd-59169cdc8b95",
   "metadata": {},
   "source": [
    "Q 8 Write a python program to check wheather a given number is palindrome or not using while loop."
   ]
  },
  {
   "cell_type": "code",
   "execution_count": null,
   "id": "2e45b621-3263-459d-809d-f73e71ec219b",
   "metadata": {},
   "outputs": [],
   "source": [
    "num = int(input(\"1221:\"))\n",
    "temp = num\n",
    "rev = 0\n",
    "while(num>0):\n",
    "    dig = num % 10\n",
    "    rev = rev*10 + dig\n",
    "    num = num // 10\n",
    "if (temp == rev):\n",
    "    print(\"this value is a palindrome no!\")\n",
    "else:\n",
    "    print(\"this value is not palindrome no!\")\n"
   ]
  },
  {
   "cell_type": "markdown",
   "id": "6faee544-5e6c-4740-9f0a-f624db19c9e8",
   "metadata": {},
   "source": [
    "Q 9 Write a code to print odd numbers from 1 to 100 using list comprehension."
   ]
  },
  {
   "cell_type": "code",
   "execution_count": null,
   "id": "2df0ac2f-a103-484b-87a5-32ce0367e786",
   "metadata": {},
   "outputs": [],
   "source": [
    "odd_list = [element for element in range (1,101) if element % 2 == 1]\n",
    "print(odd_list)"
   ]
  }
 ],
 "metadata": {
  "kernelspec": {
   "display_name": "Python 3 (ipykernel)",
   "language": "python",
   "name": "python3"
  },
  "language_info": {
   "codemirror_mode": {
    "name": "ipython",
    "version": 3
   },
   "file_extension": ".py",
   "mimetype": "text/x-python",
   "name": "python",
   "nbconvert_exporter": "python",
   "pygments_lexer": "ipython3",
   "version": "3.10.8"
  }
 },
 "nbformat": 4,
 "nbformat_minor": 5
}
